{
  "nbformat": 4,
  "nbformat_minor": 0,
  "metadata": {
    "colab": {
      "provenance": []
    },
    "kernelspec": {
      "name": "python3",
      "display_name": "Python 3"
    },
    "language_info": {
      "name": "python"
    }
  },
  "cells": [
    {
      "cell_type": "code",
      "source": [
        "!pip install baidu-aip"
      ],
      "metadata": {
        "colab": {
          "base_uri": "https://localhost:8080/"
        },
        "id": "Ajd8lqAsHfwb",
        "outputId": "35f6c5b1-4cf5-4e81-8db2-609f591b2505"
      },
      "execution_count": null,
      "outputs": [
        {
          "output_type": "stream",
          "name": "stdout",
          "text": [
            "Looking in indexes: https://pypi.org/simple, https://us-python.pkg.dev/colab-wheels/public/simple/\n",
            "Collecting baidu-aip\n",
            "  Downloading baidu_aip-4.16.10-py3-none-any.whl (29 kB)\n",
            "Requirement already satisfied: requests in /usr/local/lib/python3.9/dist-packages (from baidu-aip) (2.27.1)\n",
            "Requirement already satisfied: charset-normalizer~=2.0.0 in /usr/local/lib/python3.9/dist-packages (from requests->baidu-aip) (2.0.12)\n",
            "Requirement already satisfied: urllib3<1.27,>=1.21.1 in /usr/local/lib/python3.9/dist-packages (from requests->baidu-aip) (1.26.15)\n",
            "Requirement already satisfied: idna<4,>=2.5 in /usr/local/lib/python3.9/dist-packages (from requests->baidu-aip) (3.4)\n",
            "Requirement already satisfied: certifi>=2017.4.17 in /usr/local/lib/python3.9/dist-packages (from requests->baidu-aip) (2022.12.7)\n",
            "Installing collected packages: baidu-aip\n",
            "Successfully installed baidu-aip-4.16.10\n"
          ]
        }
      ]
    },
    {
      "cell_type": "code",
      "source": [
        "import os\n",
        "from aip import AipNlp\n",
        "\n",
        "# 设置百度大脑API的APP ID、API Key和Secret Key\n",
        "APP_ID = '32206189'\n",
        "API_KEY = 'vAEGFC46wk6gSq3vIqkcf8eY'\n",
        "SECRET_KEY = '96bCcX0qhSuTqGCGGT41oe5hq5N490GK'\n",
        "# 创建AipNlp客户端\n",
        "client = AipNlp(APP_ID, API_KEY, SECRET_KEY)\n"
      ],
      "metadata": {
        "id": "DilphRBdVxS5"
      },
      "execution_count": null,
      "outputs": []
    },
    {
      "cell_type": "code",
      "source": [
        "# 读取txt格式数据集\n",
        "dataset_path = '/content/drive/MyDrive/Colab Notebooks/normal - 2.txt'\n",
        "with open(dataset_path, 'r', encoding='utf-8') as f:\n",
        "    data = f.readlines()\n",
        "\n"
      ],
      "metadata": {
        "id": "Lcqb4AkiV9M-"
      },
      "execution_count": null,
      "outputs": []
    },
    {
      "cell_type": "code",
      "source": [
        "data"
      ],
      "metadata": {
        "id": "TVrfsNZNWJdJ"
      },
      "execution_count": null,
      "outputs": []
    },
    {
      "cell_type": "code",
      "source": [
        "len(data)"
      ],
      "metadata": {
        "colab": {
          "base_uri": "https://localhost:8080/"
        },
        "id": "BN5hIRwq4oUq",
        "outputId": "c5fef375-9e0c-4d2a-9eb0-978e6af83733"
      },
      "execution_count": null,
      "outputs": [
        {
          "output_type": "execute_result",
          "data": {
            "text/plain": [
              "963"
            ]
          },
          "metadata": {},
          "execution_count": 111
        }
      ]
    },
    {
      "cell_type": "code",
      "source": [
        "# 对每条数据进行情感分析并将结果写入数据集中\n",
        "for i in range(len(data)):\n",
        "    text = data[i].strip()  # 去除每行文本的空格和换行符\n",
        "    if text:  # 如果文本不为空\n",
        "        result = client.sentimentClassify(text)  # 调用API进行情感分析\n",
        "        sentiment = result['items'][0]['sentiment']  # 获取情感极性\n",
        "        confidence = result['items'][0]['confidence']  # 获取置信度\n",
        "        # 将情感分析结果写入数据集中\n",
        "        data[i] = text + '\\t' + str(sentiment) + '\\t' + str(confidence) + '\\n'\n"
      ],
      "metadata": {
        "id": "k46dhLEKV_Q6"
      },
      "execution_count": null,
      "outputs": []
    },
    {
      "cell_type": "code",
      "source": [
        "text"
      ],
      "metadata": {
        "colab": {
          "base_uri": "https://localhost:8080/",
          "height": 35
        },
        "id": "78VVbG7u41Er",
        "outputId": "ff28b4ac-a2c9-4d71-b43a-3b548beaccf2"
      },
      "execution_count": null,
      "outputs": [
        {
          "output_type": "execute_result",
          "data": {
            "text/plain": [
              "'果兰花'"
            ],
            "application/vnd.google.colaboratory.intrinsic+json": {
              "type": "string"
            }
          },
          "metadata": {},
          "execution_count": 113
        }
      ]
    },
    {
      "cell_type": "code",
      "source": [
        "result"
      ],
      "metadata": {
        "colab": {
          "base_uri": "https://localhost:8080/"
        },
        "id": "15eX-rg-X2dk",
        "outputId": "f0a79c02-1342-44bf-a1e2-563506371242"
      },
      "execution_count": null,
      "outputs": [
        {
          "output_type": "execute_result",
          "data": {
            "text/plain": [
              "{'text': '果兰花',\n",
              " 'items': [{'confidence': 0.946634,\n",
              "   'negative_prob': 0.0240146,\n",
              "   'positive_prob': 0.975985,\n",
              "   'sentiment': 2}],\n",
              " 'log_id': 1647162739976309687}"
            ]
          },
          "metadata": {},
          "execution_count": 114
        }
      ]
    },
    {
      "cell_type": "code",
      "source": [
        "# 将更新后的数据集保存到文件中\n",
        "with open(dataset_path, 'w', encoding='utf-8') as f:\n",
        "    f.writelines(data)"
      ],
      "metadata": {
        "id": "V4bvoNFvWBdI"
      },
      "execution_count": null,
      "outputs": []
    }
  ]
}