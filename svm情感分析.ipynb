{
 "cells": [
  {
   "cell_type": "code",
   "execution_count": 26,
   "id": "101e714a-1226-43f1-b057-d3d596b9ac89",
   "metadata": {},
   "outputs": [],
   "source": [
    "import pandas as pd\n",
    "import matplotlib.pyplot as plt"
   ]
  },
  {
   "cell_type": "code",
   "execution_count": 55,
   "id": "f6d91e0e-5052-4217-88f6-ccead4e47db3",
   "metadata": {},
   "outputs": [
    {
     "data": {
      "text/html": [
       "<div>\n",
       "<style scoped>\n",
       "    .dataframe tbody tr th:only-of-type {\n",
       "        vertical-align: middle;\n",
       "    }\n",
       "\n",
       "    .dataframe tbody tr th {\n",
       "        vertical-align: top;\n",
       "    }\n",
       "\n",
       "    .dataframe thead th {\n",
       "        text-align: right;\n",
       "    }\n",
       "</style>\n",
       "<table border=\"1\" class=\"dataframe\">\n",
       "  <thead>\n",
       "    <tr style=\"text-align: right;\">\n",
       "      <th></th>\n",
       "      <th>text</th>\n",
       "      <th>label</th>\n",
       "      <th>score</th>\n",
       "    </tr>\n",
       "  </thead>\n",
       "  <tbody>\n",
       "    <tr>\n",
       "      <th>0</th>\n",
       "      <td>趵突泉管好你自己</td>\n",
       "      <td>1</td>\n",
       "      <td>0.646242</td>\n",
       "    </tr>\n",
       "    <tr>\n",
       "      <th>1</th>\n",
       "      <td>防李清照的围挡哈哈哈哈</td>\n",
       "      <td>2</td>\n",
       "      <td>0.909193</td>\n",
       "    </tr>\n",
       "    <tr>\n",
       "      <th>2</th>\n",
       "      <td>大青岛</td>\n",
       "      <td>2</td>\n",
       "      <td>0.987700</td>\n",
       "    </tr>\n",
       "    <tr>\n",
       "      <th>3</th>\n",
       "      <td>扑棱鹅子</td>\n",
       "      <td>2</td>\n",
       "      <td>0.561283</td>\n",
       "    </tr>\n",
       "    <tr>\n",
       "      <th>4</th>\n",
       "      <td>轩轩的家乡</td>\n",
       "      <td>2</td>\n",
       "      <td>0.999437</td>\n",
       "    </tr>\n",
       "    <tr>\n",
       "      <th>...</th>\n",
       "      <td>...</td>\n",
       "      <td>...</td>\n",
       "      <td>...</td>\n",
       "    </tr>\n",
       "    <tr>\n",
       "      <th>6970</th>\n",
       "      <td>红红火火恍恍惚惚</td>\n",
       "      <td>2</td>\n",
       "      <td>0.983640</td>\n",
       "    </tr>\n",
       "    <tr>\n",
       "      <th>6971</th>\n",
       "      <td>还有一只在扭屁股</td>\n",
       "      <td>2</td>\n",
       "      <td>0.012634</td>\n",
       "    </tr>\n",
       "    <tr>\n",
       "      <th>6972</th>\n",
       "      <td>小胖子</td>\n",
       "      <td>2</td>\n",
       "      <td>0.983712</td>\n",
       "    </tr>\n",
       "    <tr>\n",
       "      <th>6973</th>\n",
       "      <td>老司机</td>\n",
       "      <td>2</td>\n",
       "      <td>0.742762</td>\n",
       "    </tr>\n",
       "    <tr>\n",
       "      <th>6974</th>\n",
       "      <td>果兰花</td>\n",
       "      <td>2</td>\n",
       "      <td>0.946634</td>\n",
       "    </tr>\n",
       "  </tbody>\n",
       "</table>\n",
       "<p>6975 rows × 3 columns</p>\n",
       "</div>"
      ],
      "text/plain": [
       "             text  label     score\n",
       "0        趵突泉管好你自己      1  0.646242\n",
       "1     防李清照的围挡哈哈哈哈      2  0.909193\n",
       "2             大青岛      2  0.987700\n",
       "3            扑棱鹅子      2  0.561283\n",
       "4           轩轩的家乡      2  0.999437\n",
       "...           ...    ...       ...\n",
       "6970     红红火火恍恍惚惚      2  0.983640\n",
       "6971     还有一只在扭屁股      2  0.012634\n",
       "6972          小胖子      2  0.983712\n",
       "6973          老司机      2  0.742762\n",
       "6974          果兰花      2  0.946634\n",
       "\n",
       "[6975 rows x 3 columns]"
      ]
     },
     "execution_count": 55,
     "metadata": {},
     "output_type": "execute_result"
    }
   ],
   "source": [
    "df=pd.read_csv('data.csv',encoding='utf-8')\n",
    "df"
   ]
  },
  {
   "cell_type": "code",
   "execution_count": 56,
   "id": "25908dcf-6392-484e-87d5-60d606815919",
   "metadata": {},
   "outputs": [
    {
     "name": "stdout",
     "output_type": "stream",
     "text": [
      "<class 'pandas.core.frame.DataFrame'>\n",
      "RangeIndex: 6975 entries, 0 to 6974\n",
      "Data columns (total 3 columns):\n",
      " #   Column  Non-Null Count  Dtype  \n",
      "---  ------  --------------  -----  \n",
      " 0   text    6975 non-null   object \n",
      " 1   label   6975 non-null   int64  \n",
      " 2   score   6975 non-null   float64\n",
      "dtypes: float64(1), int64(1), object(1)\n",
      "memory usage: 163.6+ KB\n"
     ]
    }
   ],
   "source": [
    "df.info()"
   ]
  },
  {
   "cell_type": "code",
   "execution_count": 57,
   "id": "d1ee3000-4e68-4b64-a262-fda9f8e33655",
   "metadata": {},
   "outputs": [
    {
     "data": {
      "text/html": [
       "<div>\n",
       "<style scoped>\n",
       "    .dataframe tbody tr th:only-of-type {\n",
       "        vertical-align: middle;\n",
       "    }\n",
       "\n",
       "    .dataframe tbody tr th {\n",
       "        vertical-align: top;\n",
       "    }\n",
       "\n",
       "    .dataframe thead th {\n",
       "        text-align: right;\n",
       "    }\n",
       "</style>\n",
       "<table border=\"1\" class=\"dataframe\">\n",
       "  <thead>\n",
       "    <tr style=\"text-align: right;\">\n",
       "      <th></th>\n",
       "      <th>text</th>\n",
       "      <th>label</th>\n",
       "      <th>score</th>\n",
       "    </tr>\n",
       "  </thead>\n",
       "  <tbody>\n",
       "    <tr>\n",
       "      <th>0</th>\n",
       "      <td>False</td>\n",
       "      <td>False</td>\n",
       "      <td>False</td>\n",
       "    </tr>\n",
       "    <tr>\n",
       "      <th>1</th>\n",
       "      <td>False</td>\n",
       "      <td>False</td>\n",
       "      <td>False</td>\n",
       "    </tr>\n",
       "    <tr>\n",
       "      <th>2</th>\n",
       "      <td>False</td>\n",
       "      <td>False</td>\n",
       "      <td>False</td>\n",
       "    </tr>\n",
       "    <tr>\n",
       "      <th>3</th>\n",
       "      <td>False</td>\n",
       "      <td>False</td>\n",
       "      <td>False</td>\n",
       "    </tr>\n",
       "    <tr>\n",
       "      <th>4</th>\n",
       "      <td>False</td>\n",
       "      <td>False</td>\n",
       "      <td>False</td>\n",
       "    </tr>\n",
       "    <tr>\n",
       "      <th>...</th>\n",
       "      <td>...</td>\n",
       "      <td>...</td>\n",
       "      <td>...</td>\n",
       "    </tr>\n",
       "    <tr>\n",
       "      <th>6970</th>\n",
       "      <td>False</td>\n",
       "      <td>False</td>\n",
       "      <td>False</td>\n",
       "    </tr>\n",
       "    <tr>\n",
       "      <th>6971</th>\n",
       "      <td>False</td>\n",
       "      <td>False</td>\n",
       "      <td>False</td>\n",
       "    </tr>\n",
       "    <tr>\n",
       "      <th>6972</th>\n",
       "      <td>False</td>\n",
       "      <td>False</td>\n",
       "      <td>False</td>\n",
       "    </tr>\n",
       "    <tr>\n",
       "      <th>6973</th>\n",
       "      <td>False</td>\n",
       "      <td>False</td>\n",
       "      <td>False</td>\n",
       "    </tr>\n",
       "    <tr>\n",
       "      <th>6974</th>\n",
       "      <td>False</td>\n",
       "      <td>False</td>\n",
       "      <td>False</td>\n",
       "    </tr>\n",
       "  </tbody>\n",
       "</table>\n",
       "<p>6975 rows × 3 columns</p>\n",
       "</div>"
      ],
      "text/plain": [
       "       text  label  score\n",
       "0     False  False  False\n",
       "1     False  False  False\n",
       "2     False  False  False\n",
       "3     False  False  False\n",
       "4     False  False  False\n",
       "...     ...    ...    ...\n",
       "6970  False  False  False\n",
       "6971  False  False  False\n",
       "6972  False  False  False\n",
       "6973  False  False  False\n",
       "6974  False  False  False\n",
       "\n",
       "[6975 rows x 3 columns]"
      ]
     },
     "execution_count": 57,
     "metadata": {},
     "output_type": "execute_result"
    }
   ],
   "source": [
    "df.isnull()"
   ]
  },
  {
   "cell_type": "code",
   "execution_count": 58,
   "id": "796d547b-dd82-4ad2-9b8a-dfe2e3986236",
   "metadata": {},
   "outputs": [
    {
     "data": {
      "text/plain": [
       "label\n",
       "0    1187\n",
       "1     254\n",
       "2    5534\n",
       "Name: label, dtype: int64"
      ]
     },
     "execution_count": 58,
     "metadata": {},
     "output_type": "execute_result"
    }
   ],
   "source": [
    "# 按照某一标签分组并统计数量\n",
    "counts = df.groupby('label')['label'].count()\n",
    "counts"
   ]
  },
  {
   "cell_type": "code",
   "execution_count": 59,
   "id": "dc350099-7e53-45a0-8c3c-125769e0ae65",
   "metadata": {},
   "outputs": [
    {
     "data": {
      "image/png": "[encoded data removed]",
      "text/plain": [
       "<Figure size 432x288 with 1 Axes>"
      ]
     },
     "metadata": {},
     "output_type": "display_data"
    }
   ],
   "source": [
    "# 绘制饼图\n",
    "counts.plot(kind='pie', autopct='%1.1f%%')\n",
    "plt.axis('equal')\n",
    "plt.show()"
   ]
  },
  {
   "cell_type": "code",
   "execution_count": 60,
   "id": "1ae6e09d-e521-4ffc-ba62-2ad290b32c07",
   "metadata": {},
   "outputs": [
    {
     "data": {
      "image/png": "[encoded data removed]",
      "text/plain": [
       "<Figure size 432x288 with 1 Axes>"
      ]
     },
     "metadata": {
      "needs_background": "light"
     },
     "output_type": "display_data"
    }
   ],
   "source": [
    "# 绘制柱状图\n",
    "counts.plot(kind='bar')\n",
    "plt.xlabel('Labels')\n",
    "plt.ylabel('Counts')\n",
    "plt.show()"
   ]
  },
  {
   "cell_type": "markdown",
   "id": "b7a06d6b-ad7f-4568-825a-08073ec7cb18",
   "metadata": {
    "tags": []
   },
   "source": [
    "##使用svm进行情感分析"
   ]
  },
  {
   "cell_type": "code",
   "execution_count": 69,
   "id": "38f748fc-2426-4640-a72c-4eacfbd4a290",
   "metadata": {},
   "outputs": [],
   "source": [
    "import pandas as pd\n",
    "from sklearn.model_selection import train_test_split\n",
    "from sklearn.feature_extraction.text import TfidfVectorizer\n",
    "from sklearn.svm import SVC\n",
    "from sklearn.metrics import classification_report"
   ]
  },
  {
   "cell_type": "code",
   "execution_count": 70,
   "id": "a28d9e78-2358-4977-9a1a-31ffbf2b0782",
   "metadata": {},
   "outputs": [
    {
     "data": {
      "text/html": [
       "<div>\n",
       "<style scoped>\n",
       "    .dataframe tbody tr th:only-of-type {\n",
       "        vertical-align: middle;\n",
       "    }\n",
       "\n",
       "    .dataframe tbody tr th {\n",
       "        vertical-align: top;\n",
       "    }\n",
       "\n",
       "    .dataframe thead th {\n",
       "        text-align: right;\n",
       "    }\n",
       "</style>\n",
       "<table border=\"1\" class=\"dataframe\">\n",
       "  <thead>\n",
       "    <tr style=\"text-align: right;\">\n",
       "      <th></th>\n",
       "      <th>text</th>\n",
       "      <th>label</th>\n",
       "      <th>score</th>\n",
       "    </tr>\n",
       "  </thead>\n",
       "  <tbody>\n",
       "    <tr>\n",
       "      <th>0</th>\n",
       "      <td>趵突泉管好你自己</td>\n",
       "      <td>1</td>\n",
       "      <td>0.646242</td>\n",
       "    </tr>\n",
       "    <tr>\n",
       "      <th>1</th>\n",
       "      <td>防李清照的围挡哈哈哈哈</td>\n",
       "      <td>2</td>\n",
       "      <td>0.909193</td>\n",
       "    </tr>\n",
       "    <tr>\n",
       "      <th>2</th>\n",
       "      <td>大青岛</td>\n",
       "      <td>2</td>\n",
       "      <td>0.987700</td>\n",
       "    </tr>\n",
       "    <tr>\n",
       "      <th>3</th>\n",
       "      <td>扑棱鹅子</td>\n",
       "      <td>2</td>\n",
       "      <td>0.561283</td>\n",
       "    </tr>\n",
       "    <tr>\n",
       "      <th>4</th>\n",
       "      <td>轩轩的家乡</td>\n",
       "      <td>2</td>\n",
       "      <td>0.999437</td>\n",
       "    </tr>\n",
       "  </tbody>\n",
       "</table>\n",
       "</div>"
      ],
      "text/plain": [
       "          text  label     score\n",
       "0     趵突泉管好你自己      1  0.646242\n",
       "1  防李清照的围挡哈哈哈哈      2  0.909193\n",
       "2          大青岛      2  0.987700\n",
       "3         扑棱鹅子      2  0.561283\n",
       "4        轩轩的家乡      2  0.999437"
      ]
     },
     "execution_count": 70,
     "metadata": {},
     "output_type": "execute_result"
    }
   ],
   "source": [
    "# 读取csv文件\n",
    "df = pd.read_csv('data.csv',encoding='utf-8')\n",
    "df.head()"
   ]
  },
  {
   "cell_type": "code",
   "execution_count": 71,
   "id": "5a574c61-e640-41ab-bba7-e0f3704a4876",
   "metadata": {},
   "outputs": [
    {
     "data": {
      "text/html": [
       "<div>\n",
       "<style scoped>\n",
       "    .dataframe tbody tr th:only-of-type {\n",
       "        vertical-align: middle;\n",
       "    }\n",
       "\n",
       "    .dataframe tbody tr th {\n",
       "        vertical-align: top;\n",
       "    }\n",
       "\n",
       "    .dataframe thead th {\n",
       "        text-align: right;\n",
       "    }\n",
       "</style>\n",
       "<table border=\"1\" class=\"dataframe\">\n",
       "  <thead>\n",
       "    <tr style=\"text-align: right;\">\n",
       "      <th></th>\n",
       "      <th>text</th>\n",
       "      <th>label</th>\n",
       "      <th>score</th>\n",
       "    </tr>\n",
       "  </thead>\n",
       "  <tbody>\n",
       "    <tr>\n",
       "      <th>0</th>\n",
       "      <td>趵突泉管好你自己</td>\n",
       "      <td>0</td>\n",
       "      <td>0.646242</td>\n",
       "    </tr>\n",
       "    <tr>\n",
       "      <th>1</th>\n",
       "      <td>防李清照的围挡哈哈哈哈</td>\n",
       "      <td>2</td>\n",
       "      <td>0.909193</td>\n",
       "    </tr>\n",
       "    <tr>\n",
       "      <th>2</th>\n",
       "      <td>大青岛</td>\n",
       "      <td>2</td>\n",
       "      <td>0.987700</td>\n",
       "    </tr>\n",
       "    <tr>\n",
       "      <th>3</th>\n",
       "      <td>扑棱鹅子</td>\n",
       "      <td>2</td>\n",
       "      <td>0.561283</td>\n",
       "    </tr>\n",
       "    <tr>\n",
       "      <th>4</th>\n",
       "      <td>轩轩的家乡</td>\n",
       "      <td>2</td>\n",
       "      <td>0.999437</td>\n",
       "    </tr>\n",
       "    <tr>\n",
       "      <th>5</th>\n",
       "      <td>小宋老师的姐妹等等</td>\n",
       "      <td>2</td>\n",
       "      <td>0.992130</td>\n",
       "    </tr>\n",
       "    <tr>\n",
       "      <th>6</th>\n",
       "      <td>年级第一我要当年级第一</td>\n",
       "      <td>2</td>\n",
       "      <td>0.991552</td>\n",
       "    </tr>\n",
       "    <tr>\n",
       "      <th>7</th>\n",
       "      <td>云梦</td>\n",
       "      <td>2</td>\n",
       "      <td>0.921046</td>\n",
       "    </tr>\n",
       "    <tr>\n",
       "      <th>8</th>\n",
       "      <td>没办法山东每个城市都很优秀很有特点你说气不气哈哈哈哈哈哈哈</td>\n",
       "      <td>2</td>\n",
       "      <td>0.614598</td>\n",
       "    </tr>\n",
       "    <tr>\n",
       "      <th>9</th>\n",
       "      <td>小宋是宋亚轩</td>\n",
       "      <td>2</td>\n",
       "      <td>0.930163</td>\n",
       "    </tr>\n",
       "  </tbody>\n",
       "</table>\n",
       "</div>"
      ],
      "text/plain": [
       "                            text  label     score\n",
       "0                       趵突泉管好你自己      0  0.646242\n",
       "1                    防李清照的围挡哈哈哈哈      2  0.909193\n",
       "2                            大青岛      2  0.987700\n",
       "3                           扑棱鹅子      2  0.561283\n",
       "4                          轩轩的家乡      2  0.999437\n",
       "5                      小宋老师的姐妹等等      2  0.992130\n",
       "6                    年级第一我要当年级第一      2  0.991552\n",
       "7                             云梦      2  0.921046\n",
       "8  没办法山东每个城市都很优秀很有特点你说气不气哈哈哈哈哈哈哈      2  0.614598\n",
       "9                         小宋是宋亚轩      2  0.930163"
      ]
     },
     "execution_count": 71,
     "metadata": {},
     "output_type": "execute_result"
    }
   ],
   "source": [
    "df.replace({\"label\":{1:0}},inplace=True)\n",
    "df.head(10)"
   ]
  },
  {
   "cell_type": "code",
   "execution_count": 77,
   "id": "6cdf8e19-6251-46be-9aaf-1530cb672d6c",
   "metadata": {},
   "outputs": [],
   "source": [
    "# 划分训练集和测试集\n",
    "X_train, X_test, y_train, y_test = train_test_split(df['text'].tolist(), df['label'].tolist(), test_size=0.4, random_state=42)"
   ]
  },
  {
   "cell_type": "code",
   "execution_count": 78,
   "id": "277c8ba3-fb77-48a4-ab8e-610513dd19c0",
   "metadata": {},
   "outputs": [],
   "source": [
    "# 提取特征\n",
    "vectorizer = TfidfVectorizer()\n",
    "X_train = vectorizer.fit_transform(X_train)\n",
    "X_test = vectorizer.transform(X_test)"
   ]
  },
  {
   "cell_type": "code",
   "execution_count": 79,
   "id": "e3545300-8aca-4202-a7ae-6a2e649940da",
   "metadata": {},
   "outputs": [
    {
     "data": {
      "text/plain": [
       "SVC(kernel='linear')"
      ]
     },
     "execution_count": 79,
     "metadata": {},
     "output_type": "execute_result"
    }
   ],
   "source": [
    "# 训练模型\n",
    "model = SVC(kernel='linear')\n",
    "model.fit(X_train, y_train)"
   ]
  },
  {
   "cell_type": "code",
   "execution_count": 80,
   "id": "70cbccbf-703b-4e7e-b5c0-57bcce87280b",
   "metadata": {},
   "outputs": [],
   "source": [
    "# 预测\n",
    "y_pred = model.predict(X_test)"
   ]
  },
  {
   "cell_type": "code",
   "execution_count": 81,
   "id": "87679d1b-8b9f-4ea8-b62d-814f5bb83caa",
   "metadata": {},
   "outputs": [
    {
     "name": "stdout",
     "output_type": "stream",
     "text": [
      "              precision    recall  f1-score   support\n",
      "\n",
      "           0       0.99      0.12      0.21       604\n",
      "           2       0.80      1.00      0.89      2186\n",
      "\n",
      "    accuracy                           0.81      2790\n",
      "   macro avg       0.90      0.56      0.55      2790\n",
      "weighted avg       0.84      0.81      0.74      2790\n",
      "\n",
      "准确率: 0.8089605734767025\n"
     ]
    }
   ],
   "source": [
    "# 测试集效果检验\n",
    "from sklearn import metrics\n",
    "\n",
    "print(metrics.classification_report(y_test, y_pred))\n",
    "print(\"准确率:\", metrics.accuracy_score(y_test, y_pred))"
   ]
  },
  {
   "cell_type": "code",
   "execution_count": 82,
   "id": "100bc37e",
   "metadata": {},
   "outputs": [
    {
     "data": {
      "text/plain": [
       "0.8089605734767025"
      ]
     },
     "execution_count": 82,
     "metadata": {},
     "output_type": "execute_result"
    }
   ],
   "source": [
    "score1=metrics.accuracy_score(y_test, y_pred)\n",
    "score1"
   ]
  },
  {
   "cell_type": "code",
   "execution_count": 83,
   "id": "8107f98f-9087-493d-b226-c095e5c7b14f",
   "metadata": {},
   "outputs": [
    {
     "data": {
      "text/plain": [
       "SVC(kernel='poly')"
      ]
     },
     "execution_count": 83,
     "metadata": {},
     "output_type": "execute_result"
    }
   ],
   "source": [
    "# 训练模型\n",
    "model = SVC(kernel='poly')\n",
    "model.fit(X_train, y_train)"
   ]
  },
  {
   "cell_type": "code",
   "execution_count": 84,
   "id": "0fab7fd9-0191-4cde-8e71-e3eb54b95e00",
   "metadata": {},
   "outputs": [],
   "source": [
    "# 预测\n",
    "y_pred = model.predict(X_test)"
   ]
  },
  {
   "cell_type": "code",
   "execution_count": 85,
   "id": "f55eba62-6eb7-487b-bb94-6e1d477519d9",
   "metadata": {},
   "outputs": [
    {
     "name": "stdout",
     "output_type": "stream",
     "text": [
      "              precision    recall  f1-score   support\n",
      "\n",
      "           0       0.99      0.12      0.21       604\n",
      "           2       0.80      1.00      0.89      2186\n",
      "\n",
      "    accuracy                           0.81      2790\n",
      "   macro avg       0.90      0.56      0.55      2790\n",
      "weighted avg       0.84      0.81      0.74      2790\n",
      "\n",
      "准确率: 0.8089605734767025\n"
     ]
    }
   ],
   "source": [
    "# 测试集效果检验\n",
    "from sklearn import metrics\n",
    "\n",
    "print(metrics.classification_report(y_test, y_pred))\n",
    "print(\"准确率:\", metrics.accuracy_score(y_test, y_pred))"
   ]
  },
  {
   "cell_type": "code",
   "execution_count": 86,
   "id": "ff548653",
   "metadata": {},
   "outputs": [
    {
     "data": {
      "text/plain": [
       "0.8089605734767025"
      ]
     },
     "execution_count": 86,
     "metadata": {},
     "output_type": "execute_result"
    }
   ],
   "source": [
    "score2=metrics.accuracy_score(y_test, y_pred)\n",
    "score2"
   ]
  },
  {
   "cell_type": "code",
   "execution_count": 87,
   "id": "eb31fa7f-20b6-4d99-8c09-f6d636aba44d",
   "metadata": {},
   "outputs": [
    {
     "data": {
      "text/plain": [
       "SVC(kernel='sigmoid')"
      ]
     },
     "execution_count": 87,
     "metadata": {},
     "output_type": "execute_result"
    }
   ],
   "source": [
    "# 训练模型\n",
    "model = SVC(kernel='sigmoid')\n",
    "model.fit(X_train, y_train)"
   ]
  },
  {
   "cell_type": "code",
   "execution_count": 88,
   "id": "ce7e5261-7c4c-4646-aab9-222987330927",
   "metadata": {},
   "outputs": [],
   "source": [
    "# 预测\n",
    "y_pred = model.predict(X_test)"
   ]
  },
  {
   "cell_type": "code",
   "execution_count": 89,
   "id": "c2b0771c-b1af-484a-a47f-6d7cc4217055",
   "metadata": {},
   "outputs": [
    {
     "name": "stdout",
     "output_type": "stream",
     "text": [
      "              precision    recall  f1-score   support\n",
      "\n",
      "           0       1.00      0.06      0.12       604\n",
      "           2       0.79      1.00      0.89      2186\n",
      "\n",
      "    accuracy                           0.80      2790\n",
      "   macro avg       0.90      0.53      0.50      2790\n",
      "weighted avg       0.84      0.80      0.72      2790\n",
      "\n",
      "准确率: 0.7967741935483871\n"
     ]
    }
   ],
   "source": [
    "# 测试集效果检验\n",
    "from sklearn import metrics\n",
    "\n",
    "print(metrics.classification_report(y_test, y_pred))\n",
    "print(\"准确率:\", metrics.accuracy_score(y_test, y_pred))"
   ]
  },
  {
   "cell_type": "code",
   "execution_count": 90,
   "id": "42ad22f3",
   "metadata": {},
   "outputs": [
    {
     "data": {
      "text/plain": [
       "0.7967741935483871"
      ]
     },
     "execution_count": 90,
     "metadata": {},
     "output_type": "execute_result"
    }
   ],
   "source": [
    "score3=metrics.accuracy_score(y_test, y_pred)\n",
    "score3"
   ]
  },
  {
   "cell_type": "code",
   "execution_count": 91,
   "id": "bc8dc784-2c27-44e0-a1bc-7b1f56ef4c1f",
   "metadata": {},
   "outputs": [
    {
     "data": {
      "text/plain": [
       "SVC()"
      ]
     },
     "execution_count": 91,
     "metadata": {},
     "output_type": "execute_result"
    }
   ],
   "source": [
    "# 训练模型\n",
    "model = SVC(kernel='rbf')\n",
    "model.fit(X_train, y_train)"
   ]
  },
  {
   "cell_type": "code",
   "execution_count": 92,
   "id": "350f3b7a-8c04-4e01-a4c3-6e52f8e6669d",
   "metadata": {},
   "outputs": [],
   "source": [
    "# 预测\n",
    "y_pred = model.predict(X_test)"
   ]
  },
  {
   "cell_type": "code",
   "execution_count": 93,
   "id": "7168604f-29e1-49d1-a29f-8b930a175484",
   "metadata": {},
   "outputs": [
    {
     "name": "stdout",
     "output_type": "stream",
     "text": [
      "              precision    recall  f1-score   support\n",
      "\n",
      "           0       0.99      0.12      0.21       604\n",
      "           2       0.80      1.00      0.89      2186\n",
      "\n",
      "    accuracy                           0.81      2790\n",
      "   macro avg       0.90      0.56      0.55      2790\n",
      "weighted avg       0.84      0.81      0.74      2790\n",
      "\n",
      "准确率: 0.8089605734767025\n"
     ]
    }
   ],
   "source": [
    "# 测试集效果检验\n",
    "from sklearn import metrics\n",
    "\n",
    "print(metrics.classification_report(y_test, y_pred))\n",
    "print(\"准确率:\", metrics.accuracy_score(y_test, y_pred))"
   ]
  },
  {
   "cell_type": "code",
   "execution_count": 94,
   "id": "611087b6-8982-43cf-ab74-77897db94c8a",
   "metadata": {},
   "outputs": [
    {
     "data": {
      "text/plain": [
       "0.8089605734767025"
      ]
     },
     "execution_count": 94,
     "metadata": {},
     "output_type": "execute_result"
    }
   ],
   "source": [
    "score4=metrics.accuracy_score(y_test, y_pred)\n",
    "score4"
   ]
  },
  {
   "cell_type": "code",
   "execution_count": 97,
   "id": "dd3575e0-bc98-4813-939d-bf4a5fa06111",
   "metadata": {},
   "outputs": [
    {
     "data": {
      "text/plain": [
       "[<matplotlib.lines.Line2D at 0x1a9e77a7160>]"
      ]
     },
     "execution_count": 97,
     "metadata": {},
     "output_type": "execute_result"
    },
    {
     "data": {
      "image/png": "[encoded data removed]",
      "text/plain": [
       "<Figure size 432x288 with 1 Axes>"
      ]
     },
     "metadata": {
      "needs_background": "light"
     },
     "output_type": "display_data"
    }
   ],
   "source": [
    "import matplotlib.pyplot as plt\n",
    "score=[score1,score2,score3,score4]\n",
    "kernel=['linear','poly','sigmoid','rbf']\n",
    "plt.xlabel('kernel')\n",
    "plt.ylabel('score')\n",
    "plt.plot(kernel,score)"
   ]
  },
  {
   "cell_type": "code",
   "execution_count": null,
   "id": "a6d80775",
   "metadata": {},
   "outputs": [],
   "source": []
  }
 ],
 "metadata": {
  "kernelspec": {
   "display_name": "Python 3",
   "language": "python",
   "name": "python3"
  },
  "language_info": {
   "codemirror_mode": {
    "name": "ipython",
    "version": 3
   },
   "file_extension": ".py",
   "mimetype": "text/x-python",
   "name": "python",
   "nbconvert_exporter": "python",
   "pygments_lexer": "ipython3",
   "version": "3.8.8"
  }
 },
 "nbformat": 4,
 "nbformat_minor": 5
}
